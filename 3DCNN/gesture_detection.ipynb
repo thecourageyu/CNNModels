{
 "cells": [
  {
   "cell_type": "code",
   "execution_count": 196,
   "metadata": {},
   "outputs": [
    {
     "name": "stderr",
     "output_type": "stream",
     "text": [
      "/opt/conda/lib/python3.6/site-packages/ipykernel_launcher.py:4: UserWarning: \n",
      "This call to matplotlib.use() has no effect because the backend has already\n",
      "been chosen; matplotlib.use() must be called *before* pylab, matplotlib.pyplot,\n",
      "or matplotlib.backends is imported for the first time.\n",
      "\n",
      "The backend was *originally* set to 'module://ipykernel.pylab.backend_inline' by the following code:\n",
      "  File \"/opt/conda/lib/python3.6/runpy.py\", line 193, in _run_module_as_main\n",
      "    \"__main__\", mod_spec)\n",
      "  File \"/opt/conda/lib/python3.6/runpy.py\", line 85, in _run_code\n",
      "    exec(code, run_globals)\n",
      "  File \"/opt/conda/lib/python3.6/site-packages/ipykernel_launcher.py\", line 16, in <module>\n",
      "    app.launch_new_instance()\n",
      "  File \"/opt/conda/lib/python3.6/site-packages/traitlets/config/application.py\", line 658, in launch_instance\n",
      "    app.start()\n",
      "  File \"/opt/conda/lib/python3.6/site-packages/ipykernel/kernelapp.py\", line 497, in start\n",
      "    self.io_loop.start()\n",
      "  File \"/opt/conda/lib/python3.6/site-packages/tornado/platform/asyncio.py\", line 132, in start\n",
      "    self.asyncio_loop.run_forever()\n",
      "  File \"/opt/conda/lib/python3.6/asyncio/base_events.py\", line 422, in run_forever\n",
      "    self._run_once()\n",
      "  File \"/opt/conda/lib/python3.6/asyncio/base_events.py\", line 1434, in _run_once\n",
      "    handle._run()\n",
      "  File \"/opt/conda/lib/python3.6/asyncio/events.py\", line 145, in _run\n",
      "    self._callback(*self._args)\n",
      "  File \"/opt/conda/lib/python3.6/site-packages/tornado/ioloop.py\", line 758, in _run_callback\n",
      "    ret = callback()\n",
      "  File \"/opt/conda/lib/python3.6/site-packages/tornado/stack_context.py\", line 300, in null_wrapper\n",
      "    return fn(*args, **kwargs)\n",
      "  File \"/opt/conda/lib/python3.6/site-packages/zmq/eventloop/zmqstream.py\", line 536, in <lambda>\n",
      "    self.io_loop.add_callback(lambda : self._handle_events(self.socket, 0))\n",
      "  File \"/opt/conda/lib/python3.6/site-packages/zmq/eventloop/zmqstream.py\", line 450, in _handle_events\n",
      "    self._handle_recv()\n",
      "  File \"/opt/conda/lib/python3.6/site-packages/zmq/eventloop/zmqstream.py\", line 480, in _handle_recv\n",
      "    self._run_callback(callback, msg)\n",
      "  File \"/opt/conda/lib/python3.6/site-packages/zmq/eventloop/zmqstream.py\", line 432, in _run_callback\n",
      "    callback(*args, **kwargs)\n",
      "  File \"/opt/conda/lib/python3.6/site-packages/tornado/stack_context.py\", line 300, in null_wrapper\n",
      "    return fn(*args, **kwargs)\n",
      "  File \"/opt/conda/lib/python3.6/site-packages/ipykernel/kernelbase.py\", line 283, in dispatcher\n",
      "    return self.dispatch_shell(stream, msg)\n",
      "  File \"/opt/conda/lib/python3.6/site-packages/ipykernel/kernelbase.py\", line 233, in dispatch_shell\n",
      "    handler(stream, idents, msg)\n",
      "  File \"/opt/conda/lib/python3.6/site-packages/ipykernel/kernelbase.py\", line 399, in execute_request\n",
      "    user_expressions, allow_stdin)\n",
      "  File \"/opt/conda/lib/python3.6/site-packages/ipykernel/ipkernel.py\", line 208, in do_execute\n",
      "    res = shell.run_cell(code, store_history=store_history, silent=silent)\n",
      "  File \"/opt/conda/lib/python3.6/site-packages/ipykernel/zmqshell.py\", line 537, in run_cell\n",
      "    return super(ZMQInteractiveShell, self).run_cell(*args, **kwargs)\n",
      "  File \"/opt/conda/lib/python3.6/site-packages/IPython/core/interactiveshell.py\", line 2662, in run_cell\n",
      "    raw_cell, store_history, silent, shell_futures)\n",
      "  File \"/opt/conda/lib/python3.6/site-packages/IPython/core/interactiveshell.py\", line 2785, in _run_cell\n",
      "    interactivity=interactivity, compiler=compiler, result=result)\n",
      "  File \"/opt/conda/lib/python3.6/site-packages/IPython/core/interactiveshell.py\", line 2901, in run_ast_nodes\n",
      "    if self.run_code(code, result):\n",
      "  File \"/opt/conda/lib/python3.6/site-packages/IPython/core/interactiveshell.py\", line 2961, in run_code\n",
      "    exec(code_obj, self.user_global_ns, self.user_ns)\n",
      "  File \"<ipython-input-29-d6040fbdeead>\", line 6, in <module>\n",
      "    get_ipython().run_line_magic('matplotlib', 'inline')\n",
      "  File \"/opt/conda/lib/python3.6/site-packages/IPython/core/interactiveshell.py\", line 2131, in run_line_magic\n",
      "    result = fn(*args,**kwargs)\n",
      "  File \"<decorator-gen-107>\", line 2, in matplotlib\n",
      "  File \"/opt/conda/lib/python3.6/site-packages/IPython/core/magic.py\", line 187, in <lambda>\n",
      "    call = lambda f, *a, **k: f(*a, **k)\n",
      "  File \"/opt/conda/lib/python3.6/site-packages/IPython/core/magics/pylab.py\", line 99, in matplotlib\n",
      "    gui, backend = self.shell.enable_matplotlib(args.gui)\n",
      "  File \"/opt/conda/lib/python3.6/site-packages/IPython/core/interactiveshell.py\", line 3049, in enable_matplotlib\n",
      "    pt.activate_matplotlib(backend)\n",
      "  File \"/opt/conda/lib/python3.6/site-packages/IPython/core/pylabtools.py\", line 311, in activate_matplotlib\n",
      "    matplotlib.pyplot.switch_backend(backend)\n",
      "  File \"/opt/conda/lib/python3.6/site-packages/matplotlib/pyplot.py\", line 233, in switch_backend\n",
      "    _backend_mod, new_figure_manager, draw_if_interactive, _show = pylab_setup()\n",
      "  File \"/opt/conda/lib/python3.6/site-packages/matplotlib/backends/__init__.py\", line 62, in pylab_setup\n",
      "    [backend_name], 0)\n",
      "  File \"/opt/conda/lib/python3.6/site-packages/ipykernel/pylab/backend_inline.py\", line 169, in <module>\n",
      "    _enable_matplotlib_integration()\n",
      "  File \"/opt/conda/lib/python3.6/site-packages/ipykernel/pylab/backend_inline.py\", line 159, in _enable_matplotlib_integration\n",
      "    activate_matplotlib(backend)\n",
      "  File \"/opt/conda/lib/python3.6/site-packages/IPython/core/pylabtools.py\", line 311, in activate_matplotlib\n",
      "    matplotlib.pyplot.switch_backend(backend)\n",
      "  File \"/opt/conda/lib/python3.6/site-packages/matplotlib/pyplot.py\", line 231, in switch_backend\n",
      "    matplotlib.use(newbackend, warn=False, force=True)\n",
      "  File \"/opt/conda/lib/python3.6/site-packages/matplotlib/__init__.py\", line 1422, in use\n",
      "    reload(sys.modules['matplotlib.backends'])\n",
      "  File \"/opt/conda/lib/python3.6/importlib/__init__.py\", line 166, in reload\n",
      "    _bootstrap._exec(spec, module)\n",
      "  File \"/opt/conda/lib/python3.6/site-packages/matplotlib/backends/__init__.py\", line 16, in <module>\n",
      "    line for line in traceback.format_stack()\n",
      "\n",
      "\n",
      "  after removing the cwd from sys.path.\n"
     ]
    }
   ],
   "source": [
    "import os\n",
    "import cv2\n",
    "import matplotlib\n",
    "matplotlib.use('AGG')\n",
    "import matplotlib.pyplot as plt\n",
    "import numpy as np\n",
    "from keras.datasets import cifar10\n",
    "from keras.layers import (Activation, Conv3D, Dense, Dropout, Flatten,\n",
    "                          MaxPooling3D, TimeDistributed, LSTM, Reshape, BatchNormalization,LeakyReLU)\n",
    "\n",
    "from keras.callbacks import ReduceLROnPlateau, ModelCheckpoint\n",
    "from keras.layers.advanced_activations import LeakyReLU\n",
    "from keras.losses import categorical_crossentropy\n",
    "from keras.models import Sequential\n",
    "from keras.optimizers import Adam,Adadelta\n",
    "from keras.utils import np_utils\n",
    "from keras.utils.vis_utils import plot_model\n",
    "from sklearn.model_selection import train_test_split\n",
    "from sklearn import preprocessing\n",
    "import pandas as pd\n",
    "import videoto3d\n",
    "from tqdm import tqdm\n",
    "\n",
    "\n",
    "def plot_history(history, result_dir):\n",
    "    plt.plot(history.history['acc'], marker='.')\n",
    "    plt.plot(history.history['val_acc'], marker='.')\n",
    "    plt.title('model accuracy')\n",
    "    plt.xlabel('epoch')\n",
    "    plt.ylabel('accuracy')\n",
    "    plt.grid()\n",
    "    plt.legend(['acc', 'val_acc'], loc='lower right')\n",
    "    plt.savefig(os.path.join(result_dir, 'model_accuracy.png'))\n",
    "    plt.close()\n",
    "\n",
    "    plt.plot(history.history['loss'], marker='.')\n",
    "    plt.plot(history.history['val_loss'], marker='.')\n",
    "    plt.title('model loss')\n",
    "    plt.xlabel('epoch')\n",
    "    plt.ylabel('loss')\n",
    "    plt.grid()\n",
    "    plt.legend(['loss', 'val_loss'], loc='upper right')\n",
    "    plt.savefig(os.path.join(result_dir, 'model_loss.png'))\n",
    "    plt.close()\n",
    "\n",
    "\n",
    "\n",
    "def save_history(history, result_dir):\n",
    "    loss = history.history['loss']\n",
    "    acc = history.history['acc']\n",
    "    val_loss = history.history['val_loss']\n",
    "    val_acc = history.history['val_acc']\n",
    "    nb_epoch = len(acc)\n",
    "\n",
    "    with open(os.path.join(result_dir, 'result.txt'), 'w') as fp:\n",
    "        fp.write('epoch\\tloss\\tacc\\tval_loss\\tval_acc\\n')\n",
    "        for i in range(nb_epoch):\n",
    "            fp.write('{}\\t{}\\t{}\\t{}\\t{}\\n'.format(\n",
    "                i, loss[i], acc[i], val_loss[i], val_acc[i]))\n",
    "\n",
    "def str_2_label(str_ch):\n",
    "    if '逆旋' in str_ch:\n",
    "        return 'Counterclockwise'\n",
    "    elif'正旋' in str_ch:\n",
    "        return 'Clockwise'\n",
    "    elif '上下' in str_ch:\n",
    "        return 'UpDown'\n",
    "    elif 'Thumbup' in str_ch:\n",
    "        return 'ThumpUp'\n",
    "    elif 'Stop' in str_ch:\n",
    "        return 'Stop'\n",
    "    return None"
   ]
  },
  {
   "cell_type": "markdown",
   "metadata": {},
   "source": [
    "# Config"
   ]
  },
  {
   "cell_type": "code",
   "execution_count": 197,
   "metadata": {},
   "outputs": [],
   "source": [
    "img_pixel = 32\n",
    "epoch=300\n",
    "nclass=6\n",
    "output='./out'\n",
    "color=True\n",
    "skip=False\n",
    "depth=15\n",
    "batch=800\n",
    "\n",
    "channel = 3"
   ]
  },
  {
   "cell_type": "markdown",
   "metadata": {},
   "source": [
    "# load"
   ]
  },
  {
   "cell_type": "code",
   "execution_count": 253,
   "metadata": {},
   "outputs": [],
   "source": [
    "loadeddata = np.load('./dataset_6_50_False_jester_train_rgb.npz')\n",
    "nb_classes = nclass\n",
    "X, Y = loadeddata[\"X\"], loadeddata[\"Y\"]\n",
    "loadedtestdata = np.load('./dataset_6_50_False_jester_validation_rgb.npz')\n",
    "valX, valY = loadedtestdata[\"X\"], loadedtestdata[\"Y\"]"
   ]
  },
  {
   "cell_type": "code",
   "execution_count": 255,
   "metadata": {},
   "outputs": [
    {
     "name": "stdout",
     "output_type": "stream",
     "text": [
      "(9300,)\n"
     ]
    }
   ],
   "source": [
    "# X = np.concatenate((X, valX), axis=0)\n",
    "Y = np.concatenate((Y, valY), axis=0)\n",
    "print(Y.shape)"
   ]
  },
  {
   "cell_type": "code",
   "execution_count": 256,
   "metadata": {},
   "outputs": [
    {
     "data": {
      "text/plain": [
       "(9000,)"
      ]
     },
     "execution_count": 256,
     "metadata": {},
     "output_type": "execute_result"
    }
   ],
   "source": [
    "X.shape"
   ]
  },
  {
   "cell_type": "code",
   "execution_count": 257,
   "metadata": {},
   "outputs": [
    {
     "name": "stdout",
     "output_type": "stream",
     "text": [
      "No gesture\n",
      "Turning Hand Counterclockwise\n",
      "Swiping Left\n",
      "Stop Sign\n",
      "Turning Hand Clockwise\n",
      "Swiping Right\n"
     ]
    }
   ],
   "source": [
    "print(Y[0])\n",
    "print(Y[2000])\n",
    "print(Y[4000])\n",
    "print(Y[5000])\n",
    "print(Y[6000])\n",
    "print(Y[8000])\n",
    "# print(Y[0])\n",
    "# print(Y[500])\n",
    "# print(Y[1000])\n",
    "# print(Y[1500])\n",
    "# print(Y[2000])\n",
    "# print(Y[2500])"
   ]
  },
  {
   "cell_type": "code",
   "execution_count": 258,
   "metadata": {},
   "outputs": [
    {
     "name": "stdout",
     "output_type": "stream",
     "text": [
      "[1 0 0 0 0 0]\n",
      "[0 0 0 0 0 1]\n",
      "[0 0 1 0 0 0]\n",
      "[0 1 0 0 0 0]\n",
      "[0 0 0 0 1 0]\n",
      "[0 0 0 1 0 0]\n"
     ]
    },
    {
     "name": "stderr",
     "output_type": "stream",
     "text": [
      "/opt/conda/lib/python3.6/site-packages/ipykernel_launcher.py:1: FutureWarning: Method .as_matrix will be removed in a future version. Use .values instead.\n",
      "  \"\"\"Entry point for launching an IPython kernel.\n"
     ]
    }
   ],
   "source": [
    "Y = pd.DataFrame.as_matrix(pd.get_dummies(Y))\n",
    "# print(Y[0])\n",
    "# print(Y[3000])\n",
    "# print(Y[6000])\n",
    "# print(Y[9000])\n",
    "# print(Y[11500])\n",
    "\n",
    "print(Y[0])\n",
    "print(Y[2000])\n",
    "print(Y[4000])\n",
    "print(Y[5000])\n",
    "print(Y[6000])\n",
    "print(Y[8000])"
   ]
  },
  {
   "cell_type": "code",
   "execution_count": 260,
   "metadata": {},
   "outputs": [
    {
     "name": "stdout",
     "output_type": "stream",
     "text": [
      "(9000, 6)\n",
      "(300, 6)\n"
     ]
    }
   ],
   "source": [
    "valY = Y[-valY.shape[0]:]\n",
    "Y = Y[0: (len(Y) - valY.shape[0])]\n",
    "print(Y.shape)\n",
    "print(valY.shape)\n",
    "# valX = X[-valX.shape[0]:]\n",
    "# X = X[0: (len(X) - valX.shape[0])]"
   ]
  },
  {
   "cell_type": "code",
   "execution_count": 261,
   "metadata": {},
   "outputs": [
    {
     "data": {
      "text/plain": [
       "(37, 32, 32, 3)"
      ]
     },
     "execution_count": 261,
     "metadata": {},
     "output_type": "execute_result"
    }
   ],
   "source": [
    "valX[0].shape"
   ]
  },
  {
   "cell_type": "code",
   "execution_count": 262,
   "metadata": {},
   "outputs": [],
   "source": [
    "valXX = np.zeros((len(valX), depth,img_pixel,img_pixel,3))\n",
    "for index, item in enumerate(valX):\n",
    "    frame_len = len(valX[index])\n",
    "#     print(frame_len)\n",
    "    if frame_len <= depth:\n",
    "        print(index)\n",
    "        for i in range(depth):\n",
    "            frame = valX[index][i%frame_len]\n",
    "            valXX[index,i,:,:] = frame\n",
    "    else:\n",
    "        mid_frame = int(frame_len/2)\n",
    "        startframe = mid_frame-7\n",
    "        for i in range(depth):\n",
    "            valXX[index,i,:,:] = valX[index][startframe+i]\n",
    "valX = valXX.astype(int)\n",
    "del valXX"
   ]
  },
  {
   "cell_type": "code",
   "execution_count": 263,
   "metadata": {},
   "outputs": [],
   "source": [
    "# plt.imshow(valXX.astype(int)[0,12])"
   ]
  },
  {
   "cell_type": "code",
   "execution_count": 264,
   "metadata": {},
   "outputs": [],
   "source": [
    "# XX = np.zeros((len(X), depth,img_pixel,img_pixel,3))\n",
    "YY = []\n",
    "XX =[]\n",
    "count = 0\n",
    "for index, item in enumerate(X):\n",
    "    if len(X[index]) == 0:\n",
    "        print('empty'+str(index))\n",
    "        continue\n",
    "#---------------------mid\n",
    "    temp = np.zeros((depth,img_pixel,img_pixel,3))\n",
    "    frame_len = len(X[index])\n",
    "    if frame_len <= depth:\n",
    "        for i in range(depth):\n",
    "            temp[i] = X[index][i%frame_len]\n",
    "        XX.append(temp)\n",
    "        YY.append(Y[index])\n",
    "        count = count +1\n",
    "    else:\n",
    "        mid_frame = int(frame_len/2)\n",
    "        startframe = mid_frame-8\n",
    "        for i in range(depth):\n",
    "#             print(i)\n",
    "#             print(startframe)\n",
    "            temp[i] = X[index][startframe+i]\n",
    "        XX.append(temp)\n",
    "        YY.append(Y[index])\n",
    "        count = count +1"
   ]
  },
  {
   "cell_type": "code",
   "execution_count": 265,
   "metadata": {},
   "outputs": [
    {
     "name": "stdout",
     "output_type": "stream",
     "text": [
      "9000\n",
      "(9000, 6)\n"
     ]
    }
   ],
   "source": [
    "print(len(YY))\n",
    "Y = np.zeros((len(YY), 6))\n",
    "for i in range(len(YY)):\n",
    "    Y[i] = YY[i]\n",
    "del YY\n",
    "print(Y.shape)"
   ]
  },
  {
   "cell_type": "code",
   "execution_count": 266,
   "metadata": {},
   "outputs": [],
   "source": [
    "XXX = np.zeros((len(XX), depth,img_pixel,img_pixel,3))"
   ]
  },
  {
   "cell_type": "code",
   "execution_count": 267,
   "metadata": {},
   "outputs": [
    {
     "name": "stdout",
     "output_type": "stream",
     "text": [
      "(9000, 15, 32, 32, 3)\n",
      "(9000, 15, 32, 32, 3)\n"
     ]
    }
   ],
   "source": [
    "for i in range(len(XX)):\n",
    "    XXX[i] = XX[i]\n",
    "print(XXX.shape)\n",
    "X=XXX.astype(int)\n",
    "print(X.shape)\n",
    "del XX\n",
    "del XXX"
   ]
  },
  {
   "cell_type": "markdown",
   "metadata": {},
   "source": [
    "# model"
   ]
  },
  {
   "cell_type": "code",
   "execution_count": 273,
   "metadata": {},
   "outputs": [
    {
     "name": "stdout",
     "output_type": "stream",
     "text": [
      "X_shape:(9000, 15, 32, 32, 3)\n",
      "Y_shape:(9000, 6)\n",
      "_________________________________________________________________\n",
      "Layer (type)                 Output Shape              Param #   \n",
      "=================================================================\n",
      "conv3d_50 (Conv3D)           (None, 15, 32, 32, 32)    2624      \n",
      "_________________________________________________________________\n",
      "activation_49 (Activation)   (None, 15, 32, 32, 32)    0         \n",
      "_________________________________________________________________\n",
      "conv3d_51 (Conv3D)           (None, 15, 32, 32, 32)    27680     \n",
      "_________________________________________________________________\n",
      "activation_50 (Activation)   (None, 15, 32, 32, 32)    0         \n",
      "_________________________________________________________________\n",
      "max_pooling3d_25 (MaxPooling (None, 5, 11, 11, 32)     0         \n",
      "_________________________________________________________________\n",
      "dropout_33 (Dropout)         (None, 5, 11, 11, 32)     0         \n",
      "_________________________________________________________________\n",
      "conv3d_52 (Conv3D)           (None, 5, 11, 11, 64)     55360     \n",
      "_________________________________________________________________\n",
      "activation_51 (Activation)   (None, 5, 11, 11, 64)     0         \n",
      "_________________________________________________________________\n",
      "conv3d_53 (Conv3D)           (None, 5, 11, 11, 64)     110656    \n",
      "_________________________________________________________________\n",
      "activation_52 (Activation)   (None, 5, 11, 11, 64)     0         \n",
      "_________________________________________________________________\n",
      "max_pooling3d_26 (MaxPooling (None, 2, 4, 4, 64)       0         \n",
      "_________________________________________________________________\n",
      "dropout_34 (Dropout)         (None, 2, 4, 4, 64)       0         \n",
      "_________________________________________________________________\n",
      "conv3d_54 (Conv3D)           (None, 2, 4, 4, 64)       110656    \n",
      "_________________________________________________________________\n",
      "activation_53 (Activation)   (None, 2, 4, 4, 64)       0         \n",
      "_________________________________________________________________\n",
      "conv3d_55 (Conv3D)           (None, 2, 4, 4, 64)       110656    \n",
      "_________________________________________________________________\n",
      "activation_54 (Activation)   (None, 2, 4, 4, 64)       0         \n",
      "_________________________________________________________________\n",
      "max_pooling3d_27 (MaxPooling (None, 1, 2, 2, 64)       0         \n",
      "_________________________________________________________________\n",
      "dropout_35 (Dropout)         (None, 1, 2, 2, 64)       0         \n",
      "_________________________________________________________________\n",
      "flatten_9 (Flatten)          (None, 256)               0         \n",
      "_________________________________________________________________\n",
      "dense_25 (Dense)             (None, 512)               131584    \n",
      "_________________________________________________________________\n",
      "batch_normalization_9 (Batch (None, 512)               2048      \n",
      "_________________________________________________________________\n",
      "dropout_36 (Dropout)         (None, 512)               0         \n",
      "_________________________________________________________________\n",
      "dense_27 (Dense)             (None, 6)                 3078      \n",
      "=================================================================\n",
      "Total params: 554,342\n",
      "Trainable params: 553,318\n",
      "Non-trainable params: 1,024\n",
      "_________________________________________________________________\n",
      "None\n"
     ]
    }
   ],
   "source": [
    "\n",
    "print('X_shape:{}\\nY_shape:{}'.format(X.shape, Y.shape))\n",
    "\n",
    "#     Define model\n",
    "model = Sequential()\n",
    "model.add(Conv3D(32, kernel_size=(3, 3, 3), input_shape=(X.shape[1:]), padding=\"same\"))\n",
    "model.add(Activation('relu'))\n",
    "# model.add(LeakyReLU())\n",
    "model.add(Conv3D(32, padding=\"same\", kernel_size=(3, 3, 3)))\n",
    "model.add(Activation('relu'))\n",
    "# model.add(LeakyReLU())\n",
    "model.add(MaxPooling3D(pool_size=(3, 3, 3), padding=\"same\"))\n",
    "model.add(Dropout(0.2))\n",
    "\n",
    "model.add(Conv3D(64, padding=\"same\", kernel_size=(3, 3, 3)))\n",
    "model.add(Activation('relu'))\n",
    "# model.add(LeakyReLU())\n",
    "model.add(Conv3D(64, padding=\"same\", kernel_size=(3, 3, 3)))\n",
    "model.add(Activation('relu'))\n",
    "# model.add(LeakyReLU())\n",
    "model.add(MaxPooling3D(pool_size=(3, 3, 3), padding=\"same\"))\n",
    "model.add(Dropout(0.2))\n",
    "\n",
    "model.add(Conv3D(64, padding=\"same\", kernel_size=(3, 3, 3)))\n",
    "model.add(Activation('relu'))\n",
    "# model.add(LeakyReLU())\n",
    "model.add(Conv3D(64, padding=\"same\", kernel_size=(3, 3, 3)))\n",
    "model.add(Activation('relu'))\n",
    "# model.add(LeakyReLU())\n",
    "model.add(MaxPooling3D(pool_size=(3, 3, 3), padding=\"same\"))\n",
    "model.add(Dropout(0.2))\n",
    "\n",
    "model.add(Flatten())\n",
    "model.add(Dense(512, activation='relu'))\n",
    "# model.add(LeakyReLU())\n",
    "model.add(BatchNormalization())\n",
    "model.add(Dropout(0.5))\n",
    "model.add(Dense(101, activation='softmax'))\n",
    "model.load_weights('/home/jovyan/20_GeoThings_Road/3D-CNN/3DCNN-master/3dcnn_batchnorm_result/ucf101_3dcnnmodel.hd5', by_name=True)\n",
    "# model.load_weights('/home/jovyan/20_GeoThings_Road/3D-CNN/3DCNN-master/3dcnn_leakyrelu_result/ucf101_3dcnnmodel.hd5', by_name=True)\n",
    "#     print(model.summary())\n",
    "\n",
    "model.pop()\n",
    "# model.add(Reshape([None,16,16]))\n",
    "# model.add(LSTM(256,dropout=0.2))\n",
    "model.add(Dense(nb_classes, activation='softmax'))\n",
    "# model.compile(loss=categorical_crossentropy,\n",
    "#               optimizer=Adam(), metrics=['accuracy'])\n",
    "model.compile(loss=categorical_crossentropy,\n",
    "              optimizer=Adadelta(), metrics=['accuracy'])\n",
    "print(model.summary())"
   ]
  },
  {
   "cell_type": "code",
   "execution_count": 274,
   "metadata": {},
   "outputs": [],
   "source": [
    "reduce_lr = ReduceLROnPlateau(monitor='val_loss', factor=0.5, patience=5, min_lr=0.0000000001)\n",
    "saveModel = ModelCheckpoint('./out_model/weights.{epoch:02d}-{val_acc:.2f}.hdf5', monitor='val_acc', verbose=0, save_best_only=True, save_weights_only=True, mode='auto', period=1)\n",
    "\n",
    "plot_model(model, show_shapes=True,\n",
    "           to_file=os.path.join(output, 'model.png'))\n",
    "\n",
    "# X_train, X_test, Y_train, Y_test = train_test_split(\n",
    "#     X, Y, test_size=0.2, random_state=42, shuffle=True)"
   ]
  },
  {
   "cell_type": "code",
   "execution_count": 218,
   "metadata": {},
   "outputs": [
    {
     "name": "stdout",
     "output_type": "stream",
     "text": [
      "Train on 9000 samples, validate on 300 samples\n",
      "Epoch 1/300\n",
      "9000/9000 [==============================] - 12s 1ms/step - loss: 2.6748 - acc: 0.1693 - val_loss: 2.0048 - val_acc: 0.1900\n",
      "Epoch 2/300\n",
      "9000/9000 [==============================] - 9s 1ms/step - loss: 2.1132 - acc: 0.2780 - val_loss: 1.9369 - val_acc: 0.2533\n",
      "Epoch 3/300\n",
      "9000/9000 [==============================] - 9s 1ms/step - loss: 1.7714 - acc: 0.3602 - val_loss: 2.0767 - val_acc: 0.4467\n",
      "Epoch 4/300\n",
      "9000/9000 [==============================] - 10s 1ms/step - loss: 1.5600 - acc: 0.4109 - val_loss: 1.4878 - val_acc: 0.3267\n",
      "Epoch 5/300\n",
      "9000/9000 [==============================] - 10s 1ms/step - loss: 1.4072 - acc: 0.4514 - val_loss: 1.6121 - val_acc: 0.2533\n",
      "Epoch 6/300\n",
      "9000/9000 [==============================] - 10s 1ms/step - loss: 1.2767 - acc: 0.4820 - val_loss: 1.5349 - val_acc: 0.3767\n",
      "Epoch 7/300\n",
      "9000/9000 [==============================] - 10s 1ms/step - loss: 1.1948 - acc: 0.5080 - val_loss: 1.2880 - val_acc: 0.4333\n",
      "Epoch 8/300\n",
      "9000/9000 [==============================] - 10s 1ms/step - loss: 1.0797 - acc: 0.5490 - val_loss: 1.1266 - val_acc: 0.4700\n",
      "Epoch 9/300\n",
      "9000/9000 [==============================] - 10s 1ms/step - loss: 1.0034 - acc: 0.5822 - val_loss: 1.4255 - val_acc: 0.3600\n",
      "Epoch 10/300\n",
      "9000/9000 [==============================] - 10s 1ms/step - loss: 0.9493 - acc: 0.6114 - val_loss: 1.2008 - val_acc: 0.4800\n",
      "Epoch 11/300\n",
      "9000/9000 [==============================] - 10s 1ms/step - loss: 0.8725 - acc: 0.6392 - val_loss: 1.0220 - val_acc: 0.5967\n",
      "Epoch 12/300\n",
      "9000/9000 [==============================] - 10s 1ms/step - loss: 0.8517 - acc: 0.6526 - val_loss: 0.9798 - val_acc: 0.6067\n",
      "Epoch 13/300\n",
      "9000/9000 [==============================] - 10s 1ms/step - loss: 0.7977 - acc: 0.6758 - val_loss: 1.2530 - val_acc: 0.4567\n",
      "Epoch 14/300\n",
      "9000/9000 [==============================] - 10s 1ms/step - loss: 0.7660 - acc: 0.6926 - val_loss: 1.0134 - val_acc: 0.6067\n",
      "Epoch 15/300\n",
      "9000/9000 [==============================] - 10s 1ms/step - loss: 0.7110 - acc: 0.7109 - val_loss: 1.3564 - val_acc: 0.4133\n",
      "Epoch 16/300\n",
      "9000/9000 [==============================] - 10s 1ms/step - loss: 0.6831 - acc: 0.7274 - val_loss: 1.2744 - val_acc: 0.4467\n",
      "Epoch 17/300\n",
      "9000/9000 [==============================] - 10s 1ms/step - loss: 0.6562 - acc: 0.7402 - val_loss: 1.1369 - val_acc: 0.5300\n",
      "Epoch 18/300\n",
      "9000/9000 [==============================] - 10s 1ms/step - loss: 0.5430 - acc: 0.7853 - val_loss: 1.1352 - val_acc: 0.5500\n",
      "Epoch 19/300\n",
      "9000/9000 [==============================] - 10s 1ms/step - loss: 0.4918 - acc: 0.8057 - val_loss: 1.1910 - val_acc: 0.4900\n",
      "Epoch 20/300\n",
      "9000/9000 [==============================] - 10s 1ms/step - loss: 0.4501 - acc: 0.8227 - val_loss: 1.3179 - val_acc: 0.4067\n",
      "Epoch 21/300\n",
      "9000/9000 [==============================] - 10s 1ms/step - loss: 0.4244 - acc: 0.8302 - val_loss: 1.2307 - val_acc: 0.4633\n",
      "Epoch 22/300\n",
      "9000/9000 [==============================] - 10s 1ms/step - loss: 0.4274 - acc: 0.8307 - val_loss: 1.2954 - val_acc: 0.4467\n",
      "Epoch 23/300\n",
      "9000/9000 [==============================] - 10s 1ms/step - loss: 0.3703 - acc: 0.8539 - val_loss: 1.1375 - val_acc: 0.5467\n",
      "Epoch 24/300\n",
      "9000/9000 [==============================] - 10s 1ms/step - loss: 0.3447 - acc: 0.8686 - val_loss: 1.2570 - val_acc: 0.4600\n",
      "Epoch 25/300\n",
      "9000/9000 [==============================] - 10s 1ms/step - loss: 0.3266 - acc: 0.8750 - val_loss: 1.0020 - val_acc: 0.6633\n",
      "Epoch 26/300\n",
      "9000/9000 [==============================] - 10s 1ms/step - loss: 0.3261 - acc: 0.8767 - val_loss: 1.0832 - val_acc: 0.5700\n",
      "Epoch 27/300\n",
      "9000/9000 [==============================] - 10s 1ms/step - loss: 0.3032 - acc: 0.8872 - val_loss: 1.0692 - val_acc: 0.6000\n",
      "Epoch 28/300\n",
      "9000/9000 [==============================] - 10s 1ms/step - loss: 0.2761 - acc: 0.8969 - val_loss: 0.9874 - val_acc: 0.6667\n",
      "Epoch 29/300\n",
      "9000/9000 [==============================] - 10s 1ms/step - loss: 0.2632 - acc: 0.9032 - val_loss: 1.0678 - val_acc: 0.6200\n",
      "Epoch 30/300\n",
      "9000/9000 [==============================] - 10s 1ms/step - loss: 0.2595 - acc: 0.9017 - val_loss: 1.0171 - val_acc: 0.6467\n",
      "Epoch 31/300\n",
      "9000/9000 [==============================] - 10s 1ms/step - loss: 0.2573 - acc: 0.9038 - val_loss: 0.9475 - val_acc: 0.6867\n",
      "Epoch 32/300\n",
      "9000/9000 [==============================] - 10s 1ms/step - loss: 0.2365 - acc: 0.9131 - val_loss: 0.9359 - val_acc: 0.6967\n",
      "Epoch 33/300\n",
      "9000/9000 [==============================] - 10s 1ms/step - loss: 0.2333 - acc: 0.9164 - val_loss: 0.9791 - val_acc: 0.6767\n",
      "Epoch 34/300\n",
      "9000/9000 [==============================] - 10s 1ms/step - loss: 0.2267 - acc: 0.9207 - val_loss: 0.9400 - val_acc: 0.6733\n",
      "Epoch 35/300\n",
      "9000/9000 [==============================] - 10s 1ms/step - loss: 0.2272 - acc: 0.9158 - val_loss: 0.9191 - val_acc: 0.7100\n",
      "Epoch 36/300\n",
      "9000/9000 [==============================] - 10s 1ms/step - loss: 0.2132 - acc: 0.9217 - val_loss: 0.9295 - val_acc: 0.6967\n",
      "Epoch 37/300\n",
      "9000/9000 [==============================] - 10s 1ms/step - loss: 0.2052 - acc: 0.9257 - val_loss: 0.8678 - val_acc: 0.7133\n",
      "Epoch 38/300\n",
      "9000/9000 [==============================] - 10s 1ms/step - loss: 0.2011 - acc: 0.9258 - val_loss: 0.8869 - val_acc: 0.7200\n",
      "Epoch 39/300\n",
      "9000/9000 [==============================] - 10s 1ms/step - loss: 0.1984 - acc: 0.9296 - val_loss: 0.8649 - val_acc: 0.6967\n",
      "Epoch 40/300\n",
      "9000/9000 [==============================] - 10s 1ms/step - loss: 0.1914 - acc: 0.9310 - val_loss: 0.8630 - val_acc: 0.6967\n",
      "Epoch 41/300\n",
      "9000/9000 [==============================] - 10s 1ms/step - loss: 0.1818 - acc: 0.9343 - val_loss: 0.8895 - val_acc: 0.7067\n",
      "Epoch 42/300\n",
      "9000/9000 [==============================] - 10s 1ms/step - loss: 0.1798 - acc: 0.9366 - val_loss: 0.8832 - val_acc: 0.7267\n",
      "Epoch 43/300\n",
      "9000/9000 [==============================] - 10s 1ms/step - loss: 0.1673 - acc: 0.9401 - val_loss: 0.8291 - val_acc: 0.7300\n",
      "Epoch 44/300\n",
      "9000/9000 [==============================] - 10s 1ms/step - loss: 0.1616 - acc: 0.9442 - val_loss: 0.8571 - val_acc: 0.7033\n",
      "Epoch 45/300\n",
      "9000/9000 [==============================] - 10s 1ms/step - loss: 0.1633 - acc: 0.9432 - val_loss: 0.8409 - val_acc: 0.7333\n",
      "Epoch 46/300\n",
      "9000/9000 [==============================] - 10s 1ms/step - loss: 0.1548 - acc: 0.9479 - val_loss: 0.8351 - val_acc: 0.7433\n",
      "Epoch 47/300\n",
      "9000/9000 [==============================] - 10s 1ms/step - loss: 0.1495 - acc: 0.9489 - val_loss: 0.8384 - val_acc: 0.7200\n",
      "Epoch 48/300\n",
      "9000/9000 [==============================] - 10s 1ms/step - loss: 0.1392 - acc: 0.9539 - val_loss: 0.8452 - val_acc: 0.7167\n",
      "Epoch 49/300\n",
      "9000/9000 [==============================] - 10s 1ms/step - loss: 0.1381 - acc: 0.9547 - val_loss: 0.8275 - val_acc: 0.7367\n",
      "Epoch 50/300\n",
      "9000/9000 [==============================] - 10s 1ms/step - loss: 0.1329 - acc: 0.9563 - val_loss: 0.8241 - val_acc: 0.7267\n",
      "Epoch 51/300\n",
      "9000/9000 [==============================] - 10s 1ms/step - loss: 0.1317 - acc: 0.9571 - val_loss: 0.8182 - val_acc: 0.7200\n",
      "Epoch 52/300\n",
      "9000/9000 [==============================] - 10s 1ms/step - loss: 0.1232 - acc: 0.9577 - val_loss: 0.8168 - val_acc: 0.7300\n",
      "Epoch 53/300\n",
      "9000/9000 [==============================] - 10s 1ms/step - loss: 0.1255 - acc: 0.9567 - val_loss: 0.8251 - val_acc: 0.7267\n",
      "Epoch 54/300\n",
      "9000/9000 [==============================] - 10s 1ms/step - loss: 0.1271 - acc: 0.9571 - val_loss: 0.8330 - val_acc: 0.7267\n",
      "Epoch 55/300\n",
      "9000/9000 [==============================] - 10s 1ms/step - loss: 0.1246 - acc: 0.9597 - val_loss: 0.8331 - val_acc: 0.7300\n",
      "Epoch 56/300\n",
      "9000/9000 [==============================] - 10s 1ms/step - loss: 0.1222 - acc: 0.9597 - val_loss: 0.8393 - val_acc: 0.7267\n",
      "Epoch 57/300\n",
      "9000/9000 [==============================] - 10s 1ms/step - loss: 0.1174 - acc: 0.9621 - val_loss: 0.8465 - val_acc: 0.7233\n",
      "Epoch 58/300\n",
      "9000/9000 [==============================] - 10s 1ms/step - loss: 0.1130 - acc: 0.9614 - val_loss: 0.8430 - val_acc: 0.7267\n",
      "Epoch 59/300\n",
      "9000/9000 [==============================] - 10s 1ms/step - loss: 0.1143 - acc: 0.9632 - val_loss: 0.8687 - val_acc: 0.7100\n",
      "Epoch 60/300\n",
      "9000/9000 [==============================] - 10s 1ms/step - loss: 0.1101 - acc: 0.9623 - val_loss: 0.8688 - val_acc: 0.7267\n",
      "Epoch 61/300\n",
      "9000/9000 [==============================] - 10s 1ms/step - loss: 0.1015 - acc: 0.9680 - val_loss: 0.8859 - val_acc: 0.7300\n",
      "Epoch 62/300\n",
      "9000/9000 [==============================] - 10s 1ms/step - loss: 0.1077 - acc: 0.9639 - val_loss: 0.8898 - val_acc: 0.7133\n",
      "Epoch 63/300\n",
      "9000/9000 [==============================] - 10s 1ms/step - loss: 0.1028 - acc: 0.9674 - val_loss: 0.8883 - val_acc: 0.7133\n",
      "Epoch 64/300\n",
      "9000/9000 [==============================] - 10s 1ms/step - loss: 0.1022 - acc: 0.9672 - val_loss: 0.9037 - val_acc: 0.7233\n",
      "Epoch 65/300\n",
      "9000/9000 [==============================] - 10s 1ms/step - loss: 0.1038 - acc: 0.9663 - val_loss: 0.9298 - val_acc: 0.7300\n",
      "Epoch 66/300\n",
      "9000/9000 [==============================] - 10s 1ms/step - loss: 0.1017 - acc: 0.9656 - val_loss: 0.9312 - val_acc: 0.7300\n",
      "Epoch 67/300\n",
      "9000/9000 [==============================] - 10s 1ms/step - loss: 0.1034 - acc: 0.9661 - val_loss: 0.9396 - val_acc: 0.7167\n",
      "Epoch 68/300\n",
      "9000/9000 [==============================] - 9s 1ms/step - loss: 0.0966 - acc: 0.9689 - val_loss: 0.9634 - val_acc: 0.7200\n",
      "Epoch 69/300\n",
      "9000/9000 [==============================] - 10s 1ms/step - loss: 0.0957 - acc: 0.9697 - val_loss: 0.9744 - val_acc: 0.7233\n",
      "Epoch 70/300\n",
      "9000/9000 [==============================] - 10s 1ms/step - loss: 0.0963 - acc: 0.9686 - val_loss: 0.9840 - val_acc: 0.7200\n",
      "Epoch 71/300\n",
      "9000/9000 [==============================] - 10s 1ms/step - loss: 0.1061 - acc: 0.9652 - val_loss: 0.9992 - val_acc: 0.7200\n",
      "Epoch 72/300\n",
      "9000/9000 [==============================] - 10s 1ms/step - loss: 0.1014 - acc: 0.9667 - val_loss: 1.0013 - val_acc: 0.7167\n",
      "Epoch 73/300\n",
      "9000/9000 [==============================] - 10s 1ms/step - loss: 0.1025 - acc: 0.9663 - val_loss: 1.0206 - val_acc: 0.7233\n",
      "Epoch 74/300\n",
      "9000/9000 [==============================] - 9s 1ms/step - loss: 0.0991 - acc: 0.9692 - val_loss: 1.0293 - val_acc: 0.7233\n",
      "Epoch 75/300\n",
      "9000/9000 [==============================] - 10s 1ms/step - loss: 0.1014 - acc: 0.9679 - val_loss: 1.0379 - val_acc: 0.7200\n",
      "Epoch 76/300\n",
      "9000/9000 [==============================] - 10s 1ms/step - loss: 0.0986 - acc: 0.9688 - val_loss: 1.0495 - val_acc: 0.7300\n",
      "Epoch 77/300\n",
      "9000/9000 [==============================] - 10s 1ms/step - loss: 0.0982 - acc: 0.9696 - val_loss: 1.0550 - val_acc: 0.7233\n",
      "Epoch 78/300\n",
      "9000/9000 [==============================] - 10s 1ms/step - loss: 0.0986 - acc: 0.9679 - val_loss: 1.0643 - val_acc: 0.7233\n",
      "Epoch 79/300\n",
      "3200/9000 [=========>....................] - ETA: 6s - loss: 0.0995 - acc: 0.9703"
     ]
    },
    {
     "ename": "KeyboardInterrupt",
     "evalue": "",
     "output_type": "error",
     "traceback": [
      "\u001b[0;31m---------------------------------------------------------------------------\u001b[0m",
      "\u001b[0;31mKeyboardInterrupt\u001b[0m                         Traceback (most recent call last)",
      "\u001b[0;32m<ipython-input-218-a0a198c6b907>\u001b[0m in \u001b[0;36m<module>\u001b[0;34m()\u001b[0m\n\u001b[0;32m----> 1\u001b[0;31m \u001b[0mhistory\u001b[0m \u001b[0;34m=\u001b[0m \u001b[0mmodel\u001b[0m\u001b[0;34m.\u001b[0m\u001b[0mfit\u001b[0m\u001b[0;34m(\u001b[0m\u001b[0mX\u001b[0m\u001b[0;34m,\u001b[0m \u001b[0mY\u001b[0m\u001b[0;34m,\u001b[0m \u001b[0mvalidation_data\u001b[0m\u001b[0;34m=\u001b[0m\u001b[0;34m(\u001b[0m\u001b[0mvalX\u001b[0m\u001b[0;34m,\u001b[0m \u001b[0mvalY\u001b[0m\u001b[0;34m)\u001b[0m\u001b[0;34m,\u001b[0m \u001b[0mbatch_size\u001b[0m\u001b[0;34m=\u001b[0m\u001b[0mbatch\u001b[0m\u001b[0;34m,\u001b[0m\u001b[0mepochs\u001b[0m\u001b[0;34m=\u001b[0m\u001b[0mepoch\u001b[0m\u001b[0;34m,\u001b[0m \u001b[0mverbose\u001b[0m\u001b[0;34m=\u001b[0m\u001b[0;36m1\u001b[0m\u001b[0;34m,\u001b[0m \u001b[0mshuffle\u001b[0m\u001b[0;34m=\u001b[0m\u001b[0;32mTrue\u001b[0m\u001b[0;34m,\u001b[0m \u001b[0mcallbacks\u001b[0m\u001b[0;34m=\u001b[0m\u001b[0;34m[\u001b[0m\u001b[0mreduce_lr\u001b[0m\u001b[0;34m,\u001b[0m \u001b[0msaveModel\u001b[0m\u001b[0;34m]\u001b[0m\u001b[0;34m)\u001b[0m\u001b[0;34m\u001b[0m\u001b[0m\n\u001b[0m\u001b[1;32m      2\u001b[0m \u001b[0mmodel\u001b[0m\u001b[0;34m.\u001b[0m\u001b[0mevaluate\u001b[0m\u001b[0;34m(\u001b[0m\u001b[0mX_test\u001b[0m\u001b[0;34m,\u001b[0m \u001b[0mY_test\u001b[0m\u001b[0;34m,\u001b[0m \u001b[0mverbose\u001b[0m\u001b[0;34m=\u001b[0m\u001b[0;36m1\u001b[0m\u001b[0;34m)\u001b[0m\u001b[0;34m\u001b[0m\u001b[0m\n\u001b[1;32m      3\u001b[0m \u001b[0mmodel_json\u001b[0m \u001b[0;34m=\u001b[0m \u001b[0mmodel\u001b[0m\u001b[0;34m.\u001b[0m\u001b[0mto_json\u001b[0m\u001b[0;34m(\u001b[0m\u001b[0;34m)\u001b[0m\u001b[0;34m\u001b[0m\u001b[0m\n\u001b[1;32m      4\u001b[0m \u001b[0;32mif\u001b[0m \u001b[0;32mnot\u001b[0m \u001b[0mos\u001b[0m\u001b[0;34m.\u001b[0m\u001b[0mpath\u001b[0m\u001b[0;34m.\u001b[0m\u001b[0misdir\u001b[0m\u001b[0;34m(\u001b[0m\u001b[0moutput\u001b[0m\u001b[0;34m)\u001b[0m\u001b[0;34m:\u001b[0m\u001b[0;34m\u001b[0m\u001b[0m\n\u001b[1;32m      5\u001b[0m     \u001b[0mos\u001b[0m\u001b[0;34m.\u001b[0m\u001b[0mmakedirs\u001b[0m\u001b[0;34m(\u001b[0m\u001b[0moutput\u001b[0m\u001b[0;34m)\u001b[0m\u001b[0;34m\u001b[0m\u001b[0m\n",
      "\u001b[0;32m/opt/conda/lib/python3.6/site-packages/keras/engine/training.py\u001b[0m in \u001b[0;36mfit\u001b[0;34m(self, x, y, batch_size, epochs, verbose, callbacks, validation_split, validation_data, shuffle, class_weight, sample_weight, initial_epoch, steps_per_epoch, validation_steps, **kwargs)\u001b[0m\n\u001b[1;32m   1035\u001b[0m                                         \u001b[0minitial_epoch\u001b[0m\u001b[0;34m=\u001b[0m\u001b[0minitial_epoch\u001b[0m\u001b[0;34m,\u001b[0m\u001b[0;34m\u001b[0m\u001b[0m\n\u001b[1;32m   1036\u001b[0m                                         \u001b[0msteps_per_epoch\u001b[0m\u001b[0;34m=\u001b[0m\u001b[0msteps_per_epoch\u001b[0m\u001b[0;34m,\u001b[0m\u001b[0;34m\u001b[0m\u001b[0m\n\u001b[0;32m-> 1037\u001b[0;31m                                         validation_steps=validation_steps)\n\u001b[0m\u001b[1;32m   1038\u001b[0m \u001b[0;34m\u001b[0m\u001b[0m\n\u001b[1;32m   1039\u001b[0m     def evaluate(self, x=None, y=None,\n",
      "\u001b[0;32m/opt/conda/lib/python3.6/site-packages/keras/engine/training_arrays.py\u001b[0m in \u001b[0;36mfit_loop\u001b[0;34m(model, f, ins, out_labels, batch_size, epochs, verbose, callbacks, val_f, val_ins, shuffle, callback_metrics, initial_epoch, steps_per_epoch, validation_steps)\u001b[0m\n\u001b[1;32m    197\u001b[0m                     \u001b[0mins_batch\u001b[0m\u001b[0;34m[\u001b[0m\u001b[0mi\u001b[0m\u001b[0;34m]\u001b[0m \u001b[0;34m=\u001b[0m \u001b[0mins_batch\u001b[0m\u001b[0;34m[\u001b[0m\u001b[0mi\u001b[0m\u001b[0;34m]\u001b[0m\u001b[0;34m.\u001b[0m\u001b[0mtoarray\u001b[0m\u001b[0;34m(\u001b[0m\u001b[0;34m)\u001b[0m\u001b[0;34m\u001b[0m\u001b[0m\n\u001b[1;32m    198\u001b[0m \u001b[0;34m\u001b[0m\u001b[0m\n\u001b[0;32m--> 199\u001b[0;31m                 \u001b[0mouts\u001b[0m \u001b[0;34m=\u001b[0m \u001b[0mf\u001b[0m\u001b[0;34m(\u001b[0m\u001b[0mins_batch\u001b[0m\u001b[0;34m)\u001b[0m\u001b[0;34m\u001b[0m\u001b[0m\n\u001b[0m\u001b[1;32m    200\u001b[0m                 \u001b[0mouts\u001b[0m \u001b[0;34m=\u001b[0m \u001b[0mto_list\u001b[0m\u001b[0;34m(\u001b[0m\u001b[0mouts\u001b[0m\u001b[0;34m)\u001b[0m\u001b[0;34m\u001b[0m\u001b[0m\n\u001b[1;32m    201\u001b[0m                 \u001b[0;32mfor\u001b[0m \u001b[0ml\u001b[0m\u001b[0;34m,\u001b[0m \u001b[0mo\u001b[0m \u001b[0;32min\u001b[0m \u001b[0mzip\u001b[0m\u001b[0;34m(\u001b[0m\u001b[0mout_labels\u001b[0m\u001b[0;34m,\u001b[0m \u001b[0mouts\u001b[0m\u001b[0;34m)\u001b[0m\u001b[0;34m:\u001b[0m\u001b[0;34m\u001b[0m\u001b[0m\n",
      "\u001b[0;32m/opt/conda/lib/python3.6/site-packages/keras/backend/tensorflow_backend.py\u001b[0m in \u001b[0;36m__call__\u001b[0;34m(self, inputs)\u001b[0m\n\u001b[1;32m   2664\u001b[0m                 \u001b[0;32mreturn\u001b[0m \u001b[0mself\u001b[0m\u001b[0;34m.\u001b[0m\u001b[0m_legacy_call\u001b[0m\u001b[0;34m(\u001b[0m\u001b[0minputs\u001b[0m\u001b[0;34m)\u001b[0m\u001b[0;34m\u001b[0m\u001b[0m\n\u001b[1;32m   2665\u001b[0m \u001b[0;34m\u001b[0m\u001b[0m\n\u001b[0;32m-> 2666\u001b[0;31m             \u001b[0;32mreturn\u001b[0m \u001b[0mself\u001b[0m\u001b[0;34m.\u001b[0m\u001b[0m_call\u001b[0m\u001b[0;34m(\u001b[0m\u001b[0minputs\u001b[0m\u001b[0;34m)\u001b[0m\u001b[0;34m\u001b[0m\u001b[0m\n\u001b[0m\u001b[1;32m   2667\u001b[0m         \u001b[0;32melse\u001b[0m\u001b[0;34m:\u001b[0m\u001b[0;34m\u001b[0m\u001b[0m\n\u001b[1;32m   2668\u001b[0m             \u001b[0;32mif\u001b[0m \u001b[0mpy_any\u001b[0m\u001b[0;34m(\u001b[0m\u001b[0mis_tensor\u001b[0m\u001b[0;34m(\u001b[0m\u001b[0mx\u001b[0m\u001b[0;34m)\u001b[0m \u001b[0;32mfor\u001b[0m \u001b[0mx\u001b[0m \u001b[0;32min\u001b[0m \u001b[0minputs\u001b[0m\u001b[0;34m)\u001b[0m\u001b[0;34m:\u001b[0m\u001b[0;34m\u001b[0m\u001b[0m\n",
      "\u001b[0;32m/opt/conda/lib/python3.6/site-packages/keras/backend/tensorflow_backend.py\u001b[0m in \u001b[0;36m_call\u001b[0;34m(self, inputs)\u001b[0m\n\u001b[1;32m   2634\u001b[0m                                 \u001b[0msymbol_vals\u001b[0m\u001b[0;34m,\u001b[0m\u001b[0;34m\u001b[0m\u001b[0m\n\u001b[1;32m   2635\u001b[0m                                 session)\n\u001b[0;32m-> 2636\u001b[0;31m         \u001b[0mfetched\u001b[0m \u001b[0;34m=\u001b[0m \u001b[0mself\u001b[0m\u001b[0;34m.\u001b[0m\u001b[0m_callable_fn\u001b[0m\u001b[0;34m(\u001b[0m\u001b[0;34m*\u001b[0m\u001b[0marray_vals\u001b[0m\u001b[0;34m)\u001b[0m\u001b[0;34m\u001b[0m\u001b[0m\n\u001b[0m\u001b[1;32m   2637\u001b[0m         \u001b[0;32mreturn\u001b[0m \u001b[0mfetched\u001b[0m\u001b[0;34m[\u001b[0m\u001b[0;34m:\u001b[0m\u001b[0mlen\u001b[0m\u001b[0;34m(\u001b[0m\u001b[0mself\u001b[0m\u001b[0;34m.\u001b[0m\u001b[0moutputs\u001b[0m\u001b[0;34m)\u001b[0m\u001b[0;34m]\u001b[0m\u001b[0;34m\u001b[0m\u001b[0m\n\u001b[1;32m   2638\u001b[0m \u001b[0;34m\u001b[0m\u001b[0m\n",
      "\u001b[0;32m/opt/conda/lib/python3.6/site-packages/tensorflow/python/client/session.py\u001b[0m in \u001b[0;36m__call__\u001b[0;34m(self, *args, **kwargs)\u001b[0m\n\u001b[1;32m   1380\u001b[0m           ret = tf_session.TF_SessionRunCallable(\n\u001b[1;32m   1381\u001b[0m               \u001b[0mself\u001b[0m\u001b[0;34m.\u001b[0m\u001b[0m_session\u001b[0m\u001b[0;34m.\u001b[0m\u001b[0m_session\u001b[0m\u001b[0;34m,\u001b[0m \u001b[0mself\u001b[0m\u001b[0;34m.\u001b[0m\u001b[0m_handle\u001b[0m\u001b[0;34m,\u001b[0m \u001b[0margs\u001b[0m\u001b[0;34m,\u001b[0m \u001b[0mstatus\u001b[0m\u001b[0;34m,\u001b[0m\u001b[0;34m\u001b[0m\u001b[0m\n\u001b[0;32m-> 1382\u001b[0;31m               run_metadata_ptr)\n\u001b[0m\u001b[1;32m   1383\u001b[0m         \u001b[0;32mif\u001b[0m \u001b[0mrun_metadata\u001b[0m\u001b[0;34m:\u001b[0m\u001b[0;34m\u001b[0m\u001b[0m\n\u001b[1;32m   1384\u001b[0m           \u001b[0mproto_data\u001b[0m \u001b[0;34m=\u001b[0m \u001b[0mtf_session\u001b[0m\u001b[0;34m.\u001b[0m\u001b[0mTF_GetBuffer\u001b[0m\u001b[0;34m(\u001b[0m\u001b[0mrun_metadata_ptr\u001b[0m\u001b[0;34m)\u001b[0m\u001b[0;34m\u001b[0m\u001b[0m\n",
      "\u001b[0;31mKeyboardInterrupt\u001b[0m: "
     ]
    }
   ],
   "source": [
    "history = model.fit(X, Y, validation_data=(valX, valY), batch_size=batch,epochs=epoch, verbose=1, shuffle=True, callbacks=[reduce_lr, saveModel])\n",
    "model.evaluate(X_test, Y_test, verbose=1)\n",
    "model_json = model.to_json()\n",
    "if not os.path.isdir(output):\n",
    "    os.makedirs(output)\n",
    "with open(os.path.join(output, 'ucf101_3dcnnmodel.json'), 'w') as json_file:\n",
    "    json_file.write(model_json)\n",
    "# model.save_weights(os.path.join(args.output, 'ucf101_3dcnnmodel.hd5'))\n",
    "\n",
    "loss, acc = model.evaluate(X_test, Y_test, verbose=0)\n",
    "print('Test loss:', loss)\n",
    "print('Test accuracy:', acc)\n",
    "\n",
    "    \n",
    "#     print(model.predict(X_test))\n",
    "#     print(Y_test)\n",
    "    \n",
    "plot_history(history, output)\n",
    "save_history(history, output)"
   ]
  },
  {
   "cell_type": "markdown",
   "metadata": {},
   "source": [
    "# VAl"
   ]
  },
  {
   "cell_type": "code",
   "execution_count": 276,
   "metadata": {},
   "outputs": [],
   "source": [
    "model.load_weights('/home/jovyan/20_GeoThings_Road/3D-CNN/3DCNN-master/out_model/history/weights.46-0.74.hdf5')"
   ]
  },
  {
   "cell_type": "code",
   "execution_count": 277,
   "metadata": {},
   "outputs": [
    {
     "name": "stdout",
     "output_type": "stream",
     "text": [
      "[0 0 0 0 0 0 0 0 0 0 0 0 0 0 0 0 0 0 0 1 0 0 0 0 0 0 0 0 0 0 0 0 0 0 0 0 0\n",
      " 0 0 0 0 1 0 0 0 0 0 0 0 0 5 4 5 5 5 3 4 4 4 5 5 5 5 5 5 5 5 4 4 5 5 5 4 1\n",
      " 5 5 4 4 5 5 1 4 5 4 5 5 5 4 4 4 1 5 5 5 1 4 5 5 4 5 2 2 0 2 2 5 2 2 2 3 2\n",
      " 2 3 2 3 2 2 3 2 2 2 3 2 2 2 3 2 2 3 2 3 3 2 2 1 2 2 2 2 2 2 2 3 2 2 2 2 3\n",
      " 2 2 2 1 1 1 1 1 1 1 1 1 5 1 1 1 1 1 1 1 0 1 1 1 1 1 4 1 5 1 1 1 0 4 1 1 4\n",
      " 1 1 1 1 1 1 1 1 1 1 1 1 1 1 1 4 4 4 4 2 4 4 4 5 5 4 4 4 5 4 4 4 4 4 5 4 4\n",
      " 4 5 2 4 5 5 4 5 4 4 1 5 4 5 5 4 5 4 5 5 4 4 4 4 5 5 4 5 3 4 3 4 3 3 2 3 3\n",
      " 3 4 3 2 3 2 3 3 3 4 2 3 3 2 3 3 3 3 3 3 3 3 3 3 3 3 2 3 3 3 2 3 3 3 3 3 3\n",
      " 3 3 3 2]\n",
      "[0 0 0 0 0 0 0 0 0 0 0 0 0 0 0 0 0 0 0 0 0 0 0 0 0 0 0 0 0 0 0 0 0 0 0 0 0\n",
      " 0 0 0 0 0 0 0 0 0 0 0 0 0 5 5 5 5 5 5 5 5 5 5 5 5 5 5 5 5 5 5 5 5 5 5 5 5\n",
      " 5 5 5 5 5 5 5 5 5 5 5 5 5 5 5 5 5 5 5 5 5 5 5 5 5 5 2 2 2 2 2 2 2 2 2 2 2\n",
      " 2 2 2 2 2 2 2 2 2 2 2 2 2 2 2 2 2 2 2 2 2 2 2 2 2 2 2 2 2 2 2 2 2 2 2 2 2\n",
      " 2 2 1 1 1 1 1 1 1 1 1 1 1 1 1 1 1 1 1 1 1 1 1 1 1 1 1 1 1 1 1 1 1 1 1 1 1\n",
      " 1 1 1 1 1 1 1 1 1 1 1 1 1 1 1 4 4 4 4 4 4 4 4 4 4 4 4 4 4 4 4 4 4 4 4 4 4\n",
      " 4 4 4 4 4 4 4 4 4 4 4 4 4 4 4 4 4 4 4 4 4 4 4 4 4 4 4 4 3 3 3 3 3 3 3 3 3\n",
      " 3 3 3 3 3 3 3 3 3 3 3 3 3 3 3 3 3 3 3 3 3 3 3 3 3 3 3 3 3 3 3 3 3 3 3 3 3\n",
      " 3 3 3 3]\n"
     ]
    }
   ],
   "source": [
    "print(np.argmax(model.predict(valX),axis=1))\n",
    "# print(model.predict(X_test))\n",
    "print(np.argmax(valY, axis=1))"
   ]
  },
  {
   "cell_type": "code",
   "execution_count": 278,
   "metadata": {},
   "outputs": [],
   "source": [
    "df = pd.DataFrame({'pre':np.argmax(model.predict(valX),axis=1), 'true':np.argmax(valY, axis=1)})"
   ]
  },
  {
   "cell_type": "code",
   "execution_count": 279,
   "metadata": {},
   "outputs": [],
   "source": [
    "df=df.replace([0, 1, 2, 3,4,5], ['No gesture','Stop Sign', 'Swiping Left', 'Swiping Right', 'Turning Hand Clockwise', 'Turning Hand CounterClockwise'])"
   ]
  },
  {
   "cell_type": "code",
   "execution_count": 280,
   "metadata": {},
   "outputs": [],
   "source": [
    "# df.to_csv('./out.csv')"
   ]
  },
  {
   "cell_type": "code",
   "execution_count": 281,
   "metadata": {},
   "outputs": [
    {
     "data": {
      "image/png": "[encoded data removed]",
      "text/plain": [
       "<Figure size 1044x504 with 2 Axes>"
      ]
     },
     "metadata": {
      "needs_background": "light"
     },
     "output_type": "display_data"
    }
   ],
   "source": [
    "import numpy as np\n",
    "import pandas as pd\n",
    "import seaborn as sns\n",
    "from sklearn.metrics import confusion_matrix\n",
    "import matplotlib.pyplot as plt\n",
    "%matplotlib inline  \n",
    "\n",
    "# Put the results in\n",
    "y_true = df['true']\n",
    "y_pred = df['pre']\n",
    "\n",
    "\n",
    "labels = sorted(list(set(y_true)))\n",
    "cmx_d = confusion_matrix(y_pred, y_true, labels=labels)\n",
    "cmxn_d = cmx_d.astype('float') / cmx_d.sum(axis=0)[np.newaxis ,:]\n",
    "cmx_df = pd.DataFrame(cmx_d, index=labels, columns=labels)\n",
    "cmxn_df = pd.DataFrame(cmxn_d, index=labels, columns=labels)\n",
    "\n",
    "plt.figure(figsize = (14.5, 7))\n",
    "plt.subplot(121)\n",
    "sns.heatmap(cmxn_df, annot=True, cmap='YlGnBu', cbar=False)\n",
    "plt.title('Normalized confusion matrix')\n",
    "plt.xlabel('Predicted label')\n",
    "plt.ylabel('True label')\n",
    "plt.tight_layout()\n",
    "plt.subplot(122)\n",
    "sns.heatmap(cmx_df, annot=True, cmap='YlGnBu', cbar=False)\n",
    "plt.title('Confusion matrix')\n",
    "plt.xlabel('Predicted label')\n",
    "plt.ylabel('True label')\n",
    "plt.tight_layout()\n",
    "plt.show()\n"
   ]
  },
  {
   "cell_type": "code",
   "execution_count": null,
   "metadata": {},
   "outputs": [],
   "source": []
  }
 ],
 "metadata": {
  "kernelspec": {
   "display_name": "Python 3",
   "language": "python",
   "name": "python3"
  },
  "language_info": {
   "codemirror_mode": {
    "name": "ipython",
    "version": 3
   },
   "file_extension": ".py",
   "mimetype": "text/x-python",
   "name": "python",
   "nbconvert_exporter": "python",
   "pygments_lexer": "ipython3",
   "version": "3.7.3"
  }
 },
 "nbformat": 4,
 "nbformat_minor": 4
}
